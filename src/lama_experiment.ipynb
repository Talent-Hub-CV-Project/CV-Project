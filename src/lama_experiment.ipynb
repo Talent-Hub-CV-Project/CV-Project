{
 "cells": [
  {
   "cell_type": "code",
   "execution_count": 1,
   "id": "initial_id",
   "metadata": {
    "collapsed": true,
    "ExecuteTime": {
     "end_time": "2023-11-09T16:12:39.420496861Z",
     "start_time": "2023-11-09T16:12:39.234798894Z"
    }
   },
   "outputs": [],
   "source": [
    "##Kaggle functionality for loading data; Note that you have to use your kaggle API token (see the link above):\n",
    "# !pip install opendatasets\n",
    "# !pip install -q kaggle\n",
    "# !pip install --upgrade --force-reinstall --no-deps kaggle\n",
    "# !mkdir ~/.kaggle\n",
    "# !ls ~/.kaggle\n",
    "# !cp kaggle.json ~/.kaggle/\n",
    "# !chmod 600 ~/.kaggle/kaggle.json\n",
    "# !kaggle competitions download -c paddy-disease-classification\n",
    "\n",
    "# #Unpack data:\n",
    "# !mkdir paddy-disease\n",
    "# !unzip paddy-disease-classification.zip -d paddy-disease\n",
    "\n",
    "# #Install LightAutoML, Pandas and torch EfficientNet:\n",
    "# !pip install -U lightautoml[cv] #[cv] is for installing CV tasks functionality"
   ]
  },
  {
   "cell_type": "code",
   "execution_count": 2,
   "outputs": [],
   "source": [
    "# Standard python libraries\n",
    "import os\n",
    "import time\n",
    "\n",
    "# Essential DS libraries\n",
    "import numpy as np\n",
    "import pandas as pd\n",
    "from sklearn.metrics import f1_score, accuracy_score, confusion_matrix\n",
    "from sklearn.model_selection import train_test_split\n",
    "import torch\n",
    "import seaborn as sns\n",
    "import matplotlib.pyplot as plt\n",
    "\n",
    "# LightAutoML presets, task and report generation\n",
    "from lightautoml.automl.presets.image_presets import TabularCVAutoML\n",
    "from lightautoml.tasks import Task"
   ],
   "metadata": {
    "collapsed": false,
    "ExecuteTime": {
     "end_time": "2023-11-09T16:12:42.208701262Z",
     "start_time": "2023-11-09T16:12:39.241349569Z"
    }
   },
   "id": "c26ddf3ff9f16cff"
  },
  {
   "cell_type": "code",
   "execution_count": 3,
   "outputs": [
    {
     "data": {
      "text/plain": "'3.9.18 (main, Sep 11 2023, 13:41:44) \\n[GCC 11.2.0]'"
     },
     "execution_count": 3,
     "metadata": {},
     "output_type": "execute_result"
    }
   ],
   "source": [
    "import sys\n",
    "sys.version"
   ],
   "metadata": {
    "collapsed": false,
    "ExecuteTime": {
     "end_time": "2023-11-09T16:12:42.215528353Z",
     "start_time": "2023-11-09T16:12:42.211923400Z"
    }
   },
   "id": "5e17770c026f3424"
  },
  {
   "cell_type": "code",
   "execution_count": 4,
   "outputs": [],
   "source": [
    "np.random.seed(42)\n",
    "torch.set_num_threads(2)"
   ],
   "metadata": {
    "collapsed": false,
    "ExecuteTime": {
     "end_time": "2023-11-09T16:12:42.273477354Z",
     "start_time": "2023-11-09T16:12:42.215740877Z"
    }
   },
   "id": "f8108745b401b73d"
  },
  {
   "cell_type": "code",
   "execution_count": 5,
   "outputs": [],
   "source": [
    "INPUT_DIR = \"/home/vorkov/Workspace/Python/CV-Project/dataset/coco_dataset_lama/\""
   ],
   "metadata": {
    "collapsed": false,
    "ExecuteTime": {
     "end_time": "2023-11-09T16:12:42.293347118Z",
     "start_time": "2023-11-09T16:12:42.239369Z"
    }
   },
   "id": "e1a597c716b1f227"
  },
  {
   "cell_type": "code",
   "execution_count": 6,
   "outputs": [
    {
     "name": "stdout",
     "output_type": "stream",
     "text": [
      "(8635, 2)\n"
     ]
    },
    {
     "data": {
      "text/plain": "      label          image_id\n0      bear  000000568082.jpg\n1      bear  000000224878.jpg\n2     horse  000000489983.jpg\n3     horse  000000265831.jpg\n4  elephant  000000324816.jpg",
      "text/html": "<div>\n<style scoped>\n    .dataframe tbody tr th:only-of-type {\n        vertical-align: middle;\n    }\n\n    .dataframe tbody tr th {\n        vertical-align: top;\n    }\n\n    .dataframe thead th {\n        text-align: right;\n    }\n</style>\n<table border=\"1\" class=\"dataframe\">\n  <thead>\n    <tr style=\"text-align: right;\">\n      <th></th>\n      <th>label</th>\n      <th>image_id</th>\n    </tr>\n  </thead>\n  <tbody>\n    <tr>\n      <th>0</th>\n      <td>bear</td>\n      <td>000000568082.jpg</td>\n    </tr>\n    <tr>\n      <th>1</th>\n      <td>bear</td>\n      <td>000000224878.jpg</td>\n    </tr>\n    <tr>\n      <th>2</th>\n      <td>horse</td>\n      <td>000000489983.jpg</td>\n    </tr>\n    <tr>\n      <th>3</th>\n      <td>horse</td>\n      <td>000000265831.jpg</td>\n    </tr>\n    <tr>\n      <th>4</th>\n      <td>elephant</td>\n      <td>000000324816.jpg</td>\n    </tr>\n  </tbody>\n</table>\n</div>"
     },
     "execution_count": 6,
     "metadata": {},
     "output_type": "execute_result"
    }
   ],
   "source": [
    "train_data = pd.read_csv(\"/home/vorkov/Workspace/Python/CV-Project/dataset/coco_dataset_lama/data_unique.csv\")\n",
    "print(train_data.shape)\n",
    "train_data.head()"
   ],
   "metadata": {
    "collapsed": false,
    "ExecuteTime": {
     "end_time": "2023-11-09T16:12:42.354865151Z",
     "start_time": "2023-11-09T16:12:42.242198406Z"
    }
   },
   "id": "549a3e6002b13b1c"
  },
  {
   "cell_type": "code",
   "execution_count": 7,
   "outputs": [
    {
     "name": "stdout",
     "output_type": "stream",
     "text": [
      "(388, 2)\n"
     ]
    },
    {
     "data": {
      "text/plain": "      label          image_id\n0     zebra  000000068933.jpg\n1  elephant  000000170739.jpg\n2   giraffe  000000104619.jpg\n3     horse  000000029187.jpg\n4      bear  000000132622.jpg",
      "text/html": "<div>\n<style scoped>\n    .dataframe tbody tr th:only-of-type {\n        vertical-align: middle;\n    }\n\n    .dataframe tbody tr th {\n        vertical-align: top;\n    }\n\n    .dataframe thead th {\n        text-align: right;\n    }\n</style>\n<table border=\"1\" class=\"dataframe\">\n  <thead>\n    <tr style=\"text-align: right;\">\n      <th></th>\n      <th>label</th>\n      <th>image_id</th>\n    </tr>\n  </thead>\n  <tbody>\n    <tr>\n      <th>0</th>\n      <td>zebra</td>\n      <td>000000068933.jpg</td>\n    </tr>\n    <tr>\n      <th>1</th>\n      <td>elephant</td>\n      <td>000000170739.jpg</td>\n    </tr>\n    <tr>\n      <th>2</th>\n      <td>giraffe</td>\n      <td>000000104619.jpg</td>\n    </tr>\n    <tr>\n      <th>3</th>\n      <td>horse</td>\n      <td>000000029187.jpg</td>\n    </tr>\n    <tr>\n      <th>4</th>\n      <td>bear</td>\n      <td>000000132622.jpg</td>\n    </tr>\n  </tbody>\n</table>\n</div>"
     },
     "execution_count": 7,
     "metadata": {},
     "output_type": "execute_result"
    }
   ],
   "source": [
    "submission = pd.read_csv(\"/home/vorkov/Workspace/Python/CV-Project/dataset/coco_dataset_lama/data_test_unique.csv\")\n",
    "print(submission.shape)\n",
    "submission.head()"
   ],
   "metadata": {
    "collapsed": false,
    "ExecuteTime": {
     "end_time": "2023-11-09T16:12:42.379852447Z",
     "start_time": "2023-11-09T16:12:42.310331637Z"
    }
   },
   "id": "30b4da36efc8dd23"
  },
  {
   "cell_type": "code",
   "execution_count": 8,
   "outputs": [
    {
     "name": "stdout",
     "output_type": "stream",
     "text": [
      "CPU times: user 3.98 ms, sys: 0 ns, total: 3.98 ms\n",
      "Wall time: 3.95 ms\n"
     ]
    },
    {
     "data": {
      "text/plain": "      label          image_id  \\\n0      bear  000000568082.jpg   \n1      bear  000000224878.jpg   \n2     horse  000000489983.jpg   \n3     horse  000000265831.jpg   \n4  elephant  000000324816.jpg   \n\n                                                path  \n0  /home/vorkov/Workspace/Python/CV-Project/datas...  \n1  /home/vorkov/Workspace/Python/CV-Project/datas...  \n2  /home/vorkov/Workspace/Python/CV-Project/datas...  \n3  /home/vorkov/Workspace/Python/CV-Project/datas...  \n4  /home/vorkov/Workspace/Python/CV-Project/datas...  ",
      "text/html": "<div>\n<style scoped>\n    .dataframe tbody tr th:only-of-type {\n        vertical-align: middle;\n    }\n\n    .dataframe tbody tr th {\n        vertical-align: top;\n    }\n\n    .dataframe thead th {\n        text-align: right;\n    }\n</style>\n<table border=\"1\" class=\"dataframe\">\n  <thead>\n    <tr style=\"text-align: right;\">\n      <th></th>\n      <th>label</th>\n      <th>image_id</th>\n      <th>path</th>\n    </tr>\n  </thead>\n  <tbody>\n    <tr>\n      <th>0</th>\n      <td>bear</td>\n      <td>000000568082.jpg</td>\n      <td>/home/vorkov/Workspace/Python/CV-Project/datas...</td>\n    </tr>\n    <tr>\n      <th>1</th>\n      <td>bear</td>\n      <td>000000224878.jpg</td>\n      <td>/home/vorkov/Workspace/Python/CV-Project/datas...</td>\n    </tr>\n    <tr>\n      <th>2</th>\n      <td>horse</td>\n      <td>000000489983.jpg</td>\n      <td>/home/vorkov/Workspace/Python/CV-Project/datas...</td>\n    </tr>\n    <tr>\n      <th>3</th>\n      <td>horse</td>\n      <td>000000265831.jpg</td>\n      <td>/home/vorkov/Workspace/Python/CV-Project/datas...</td>\n    </tr>\n    <tr>\n      <th>4</th>\n      <td>elephant</td>\n      <td>000000324816.jpg</td>\n      <td>/home/vorkov/Workspace/Python/CV-Project/datas...</td>\n    </tr>\n  </tbody>\n</table>\n</div>"
     },
     "execution_count": 8,
     "metadata": {},
     "output_type": "execute_result"
    }
   ],
   "source": [
    "%%time\n",
    "\n",
    "train_data['path'] = INPUT_DIR + 'train_images/' + train_data['label'] + '/' + train_data['image_id']\n",
    "train_data.head()"
   ],
   "metadata": {
    "collapsed": false,
    "ExecuteTime": {
     "end_time": "2023-11-09T16:12:42.380588265Z",
     "start_time": "2023-11-09T16:12:42.311824776Z"
    }
   },
   "id": "df9e996cdeed878"
  },
  {
   "cell_type": "code",
   "execution_count": 9,
   "outputs": [
    {
     "data": {
      "text/plain": "      label          image_id  \\\n0     zebra  000000068933.jpg   \n1  elephant  000000170739.jpg   \n2   giraffe  000000104619.jpg   \n3     horse  000000029187.jpg   \n4      bear  000000132622.jpg   \n\n                                                path  \n0  /home/vorkov/Workspace/Python/CV-Project/datas...  \n1  /home/vorkov/Workspace/Python/CV-Project/datas...  \n2  /home/vorkov/Workspace/Python/CV-Project/datas...  \n3  /home/vorkov/Workspace/Python/CV-Project/datas...  \n4  /home/vorkov/Workspace/Python/CV-Project/datas...  ",
      "text/html": "<div>\n<style scoped>\n    .dataframe tbody tr th:only-of-type {\n        vertical-align: middle;\n    }\n\n    .dataframe tbody tr th {\n        vertical-align: top;\n    }\n\n    .dataframe thead th {\n        text-align: right;\n    }\n</style>\n<table border=\"1\" class=\"dataframe\">\n  <thead>\n    <tr style=\"text-align: right;\">\n      <th></th>\n      <th>label</th>\n      <th>image_id</th>\n      <th>path</th>\n    </tr>\n  </thead>\n  <tbody>\n    <tr>\n      <th>0</th>\n      <td>zebra</td>\n      <td>000000068933.jpg</td>\n      <td>/home/vorkov/Workspace/Python/CV-Project/datas...</td>\n    </tr>\n    <tr>\n      <th>1</th>\n      <td>elephant</td>\n      <td>000000170739.jpg</td>\n      <td>/home/vorkov/Workspace/Python/CV-Project/datas...</td>\n    </tr>\n    <tr>\n      <th>2</th>\n      <td>giraffe</td>\n      <td>000000104619.jpg</td>\n      <td>/home/vorkov/Workspace/Python/CV-Project/datas...</td>\n    </tr>\n    <tr>\n      <th>3</th>\n      <td>horse</td>\n      <td>000000029187.jpg</td>\n      <td>/home/vorkov/Workspace/Python/CV-Project/datas...</td>\n    </tr>\n    <tr>\n      <th>4</th>\n      <td>bear</td>\n      <td>000000132622.jpg</td>\n      <td>/home/vorkov/Workspace/Python/CV-Project/datas...</td>\n    </tr>\n  </tbody>\n</table>\n</div>"
     },
     "execution_count": 9,
     "metadata": {},
     "output_type": "execute_result"
    }
   ],
   "source": [
    "submission['path'] = INPUT_DIR + 'test_images/' + submission['label'] + '/' + submission['image_id']\n",
    "submission.head()"
   ],
   "metadata": {
    "collapsed": false,
    "ExecuteTime": {
     "end_time": "2023-11-09T16:12:42.380942903Z",
     "start_time": "2023-11-09T16:12:42.312044525Z"
    }
   },
   "id": "6d5b0ef4b79a25c9"
  },
  {
   "cell_type": "code",
   "execution_count": 10,
   "outputs": [],
   "source": [
    "# os.mkdir('./paddy-disease/modified_train')"
   ],
   "metadata": {
    "collapsed": false,
    "ExecuteTime": {
     "end_time": "2023-11-09T16:12:42.381231729Z",
     "start_time": "2023-11-09T16:12:42.312313001Z"
    }
   },
   "id": "e848d17a39b521e5"
  },
  {
   "cell_type": "code",
   "execution_count": 11,
   "outputs": [],
   "source": [
    "# from PIL import Image\n",
    "# from tqdm.notebook import tqdm\n",
    "# new_imgs = []\n",
    "# \n",
    "# for i, p in tqdm(enumerate(train_data['path'].values)):\n",
    "#     if i % 1000 == 0:\n",
    "#         print(i)\n",
    "# \n",
    "#     img = Image.open(p)\n",
    "#     new_imgs.append([img, p.split('/')[-2], p.split('/')[-1]])\n",
    "\n",
    "    # for it in range(10):\n",
    "        # new_img = img.rotate(np.random.rand() * 60 - 30, resample=3)\n",
    "\n",
    "        # if np.random.rand() > 0.5:\n",
    "            # new_img = new_img.transpose(Image.FLIP_LEFT_RIGHT)\n",
    "\n",
    "        # new_img_name = './paddy-disease/modified_train/' + p.split('/')[-1][:-4] + '_' + str(it) + '.jpg'\n",
    "        # new_img.save(new_img_name)\n",
    "        # new_imgs.append([new_img_name, p.split('/')[-2], p.split('/')[-1]])"
   ],
   "metadata": {
    "collapsed": false,
    "ExecuteTime": {
     "end_time": "2023-11-09T16:12:42.381318712Z",
     "start_time": "2023-11-09T16:12:42.312412589Z"
    }
   },
   "id": "1d15a4e4b5e84296"
  },
  {
   "cell_type": "code",
   "execution_count": 12,
   "outputs": [],
   "source": [
    "# new_imgs"
   ],
   "metadata": {
    "collapsed": false,
    "ExecuteTime": {
     "end_time": "2023-11-09T16:12:42.381400436Z",
     "start_time": "2023-11-09T16:12:42.312513481Z"
    }
   },
   "id": "ea0ef105dd49a750"
  },
  {
   "cell_type": "code",
   "execution_count": 13,
   "outputs": [
    {
     "data": {
      "text/plain": "      label          image_id  \\\n0      bear  000000568082.jpg   \n1      bear  000000224878.jpg   \n2     horse  000000489983.jpg   \n3     horse  000000265831.jpg   \n4  elephant  000000324816.jpg   \n\n                                                path  \n0  /home/vorkov/Workspace/Python/CV-Project/datas...  \n1  /home/vorkov/Workspace/Python/CV-Project/datas...  \n2  /home/vorkov/Workspace/Python/CV-Project/datas...  \n3  /home/vorkov/Workspace/Python/CV-Project/datas...  \n4  /home/vorkov/Workspace/Python/CV-Project/datas...  ",
      "text/html": "<div>\n<style scoped>\n    .dataframe tbody tr th:only-of-type {\n        vertical-align: middle;\n    }\n\n    .dataframe tbody tr th {\n        vertical-align: top;\n    }\n\n    .dataframe thead th {\n        text-align: right;\n    }\n</style>\n<table border=\"1\" class=\"dataframe\">\n  <thead>\n    <tr style=\"text-align: right;\">\n      <th></th>\n      <th>label</th>\n      <th>image_id</th>\n      <th>path</th>\n    </tr>\n  </thead>\n  <tbody>\n    <tr>\n      <th>0</th>\n      <td>bear</td>\n      <td>000000568082.jpg</td>\n      <td>/home/vorkov/Workspace/Python/CV-Project/datas...</td>\n    </tr>\n    <tr>\n      <th>1</th>\n      <td>bear</td>\n      <td>000000224878.jpg</td>\n      <td>/home/vorkov/Workspace/Python/CV-Project/datas...</td>\n    </tr>\n    <tr>\n      <th>2</th>\n      <td>horse</td>\n      <td>000000489983.jpg</td>\n      <td>/home/vorkov/Workspace/Python/CV-Project/datas...</td>\n    </tr>\n    <tr>\n      <th>3</th>\n      <td>horse</td>\n      <td>000000265831.jpg</td>\n      <td>/home/vorkov/Workspace/Python/CV-Project/datas...</td>\n    </tr>\n    <tr>\n      <th>4</th>\n      <td>elephant</td>\n      <td>000000324816.jpg</td>\n      <td>/home/vorkov/Workspace/Python/CV-Project/datas...</td>\n    </tr>\n  </tbody>\n</table>\n</div>"
     },
     "execution_count": 13,
     "metadata": {},
     "output_type": "execute_result"
    }
   ],
   "source": [
    "# train_data = pd.concat([train_data, pd.DataFrame(new_imgs, columns = ['path', 'label', 'image_id'])]).reset_index(drop = True)\n",
    "train_data.head()"
   ],
   "metadata": {
    "collapsed": false,
    "ExecuteTime": {
     "end_time": "2023-11-09T16:12:42.381811466Z",
     "start_time": "2023-11-09T16:12:42.312611637Z"
    }
   },
   "id": "b014c135b9591ae"
  },
  {
   "cell_type": "code",
   "execution_count": 14,
   "outputs": [],
   "source": [
    "# os.mkdir('./paddy-disease/modified_test')"
   ],
   "metadata": {
    "collapsed": false,
    "ExecuteTime": {
     "end_time": "2023-11-09T16:12:42.381916355Z",
     "start_time": "2023-11-09T16:12:42.312797878Z"
    }
   },
   "id": "4f9af62b5487857a"
  },
  {
   "cell_type": "code",
   "execution_count": 15,
   "outputs": [],
   "source": [
    "# new_imgs = []\n",
    "# \n",
    "# for i, p in tqdm(enumerate(submission['path'].values)):\n",
    "#     if i % 1000 == 0:\n",
    "#         print(i)\n",
    "# \n",
    "#     img = Image.open(p)\n",
    "# \n",
    "#     for it in range(5):\n",
    "#         new_img = img.rotate(np.random.rand() * 60 - 30, resample=3)\n",
    "#         if np.random.rand() > 0.5:\n",
    "#             new_img = new_img.transpose(Image.FLIP_LEFT_RIGHT)\n",
    "# \n",
    "#         new_img_name = './paddy-disease/modified_test/' + p.split('/')[-1][:-4] + '_' + str(it) + '.jpg'\n",
    "#         new_img.save(new_img_name)\n",
    "#         new_imgs.append([new_img_name, p.split('/')[-1]])"
   ],
   "metadata": {
    "collapsed": false,
    "ExecuteTime": {
     "end_time": "2023-11-09T16:12:42.381995252Z",
     "start_time": "2023-11-09T16:12:42.313000172Z"
    }
   },
   "id": "d36b76991b8a09aa"
  },
  {
   "cell_type": "code",
   "execution_count": 16,
   "outputs": [],
   "source": [
    "# submission = pd.concat([submission, pd.DataFrame(new_imgs, columns = ['path', 'image_id'])]).reset_index(drop = True)\n",
    "# submission"
   ],
   "metadata": {
    "collapsed": false,
    "ExecuteTime": {
     "end_time": "2023-11-09T16:12:42.402804030Z",
     "start_time": "2023-11-09T16:12:42.313987001Z"
    }
   },
   "id": "6fca12e7ae39c54f"
  },
  {
   "cell_type": "code",
   "execution_count": 17,
   "outputs": [],
   "source": [
    "task = Task('multiclass')"
   ],
   "metadata": {
    "collapsed": false,
    "ExecuteTime": {
     "end_time": "2023-11-09T16:12:42.440246866Z",
     "start_time": "2023-11-09T16:12:42.358313872Z"
    }
   },
   "id": "85371e8e062fdbc6"
  },
  {
   "cell_type": "code",
   "execution_count": 18,
   "outputs": [],
   "source": [
    "roles = {\n",
    "    'target': 'label',\n",
    "    'path': ['path'],\n",
    "    'group': 'image_id'\n",
    "}"
   ],
   "metadata": {
    "collapsed": false,
    "ExecuteTime": {
     "end_time": "2023-11-09T16:12:42.440643899Z",
     "start_time": "2023-11-09T16:12:42.358501356Z"
    }
   },
   "id": "d7f209799611d9f2"
  },
  {
   "cell_type": "code",
   "execution_count": 19,
   "outputs": [],
   "source": [
    "automl = TabularCVAutoML(task = task, timeout=1200, cpu_limit = 8, reader_params = {'cv': 5, 'random_state': 42})"
   ],
   "metadata": {
    "collapsed": false,
    "ExecuteTime": {
     "end_time": "2023-11-09T16:12:43.916176631Z",
     "start_time": "2023-11-09T16:12:42.358600143Z"
    }
   },
   "id": "f9df99fc988e5d68"
  },
  {
   "cell_type": "code",
   "execution_count": 20,
   "outputs": [
    {
     "data": {
      "text/plain": "'/home/vorkov/Workspace/Python/CV-Project/dataset/coco_dataset_lama/train_images/bear/000000224878.jpg'"
     },
     "execution_count": 20,
     "metadata": {},
     "output_type": "execute_result"
    }
   ],
   "source": [
    "train_data['path'][1]"
   ],
   "metadata": {
    "collapsed": false,
    "ExecuteTime": {
     "end_time": "2023-11-09T16:12:43.961946268Z",
     "start_time": "2023-11-09T16:12:43.958313312Z"
    }
   },
   "id": "9a3bbce0926e0b0a"
  },
  {
   "cell_type": "code",
   "execution_count": 21,
   "outputs": [
    {
     "name": "stdout",
     "output_type": "stream",
     "text": [
      "[19:12:43] Stdout logging level is INFO3.\n",
      "[19:12:43] Task: multiclass\n",
      "\n",
      "[19:12:43] Start automl preset with listed constraints:\n",
      "[19:12:43] - time: 1200.00 seconds\n",
      "[19:12:43] - CPU: 8 cores\n",
      "[19:12:43] - memory: 16 GB\n",
      "\n",
      "[19:12:43] \u001B[1mTrain data shape: (8635, 3)\u001B[0m\n",
      "[19:12:44] Layer \u001B[1m1\u001B[0m train process start. Time left 1199.98 secs\n",
      "Loaded pretrained weights for efficientnet-b0\n",
      "[19:12:44] Load saved dataset for path\n",
      "[19:12:44] Feature path transformed\n",
      "[19:12:45] Start fitting \u001B[1mLvl_0_Pipe_0_Mod_0_LinearL2\u001B[0m ...\n",
      "[19:12:45] ===== Start working with \u001B[1mfold 0\u001B[0m for \u001B[1mLvl_0_Pipe_0_Mod_0_LinearL2\u001B[0m =====\n",
      "[19:12:45] Linear model: C = 1e-05 score = -0.5148473254065932\n",
      "[19:12:46] Linear model: C = 5e-05 score = -0.2980221120579501\n",
      "[19:12:46] Linear model: C = 0.0001 score = -0.25237195433351556\n",
      "[19:12:47] Linear model: C = 0.0005 score = -0.20548670673489908\n",
      "[19:12:47] Linear model: C = 0.001 score = -0.19977057832377298\n",
      "[19:12:48] Linear model: C = 0.005 score = -0.20777988920035267\n",
      "[19:12:48] Linear model: C = 0.01 score = -0.22025319487002978\n",
      "[19:12:48] ===== Start working with \u001B[1mfold 1\u001B[0m for \u001B[1mLvl_0_Pipe_0_Mod_0_LinearL2\u001B[0m =====\n",
      "[19:12:49] Linear model: C = 1e-05 score = -0.5311998895892216\n",
      "[19:12:49] Linear model: C = 5e-05 score = -0.3097216436515118\n",
      "[19:12:49] Linear model: C = 0.0001 score = -0.25905158259010536\n",
      "[19:12:50] Linear model: C = 0.0005 score = -0.20073319276472512\n",
      "[19:12:50] Linear model: C = 0.001 score = -0.19089297949190456\n",
      "[19:12:51] Linear model: C = 0.005 score = -0.18982429433348705\n",
      "[19:12:51] Linear model: C = 0.01 score = -0.19850525394735566\n",
      "[19:12:51] Linear model: C = 0.05 score = -0.24135678141189737\n",
      "[19:12:51] ===== Start working with \u001B[1mfold 2\u001B[0m for \u001B[1mLvl_0_Pipe_0_Mod_0_LinearL2\u001B[0m =====\n",
      "[19:12:52] Linear model: C = 1e-05 score = -0.5307402124985163\n",
      "[19:12:52] Linear model: C = 5e-05 score = -0.3095982315360611\n",
      "[19:12:53] Linear model: C = 0.0001 score = -0.26004189809241296\n",
      "[19:12:53] Linear model: C = 0.0005 score = -0.20380977537044268\n",
      "[19:12:53] Linear model: C = 0.001 score = -0.19490166086515245\n",
      "[19:12:54] Linear model: C = 0.005 score = -0.19880183149822428\n",
      "[19:12:54] Linear model: C = 0.01 score = -0.21141838894554185\n",
      "[19:12:54] ===== Start working with \u001B[1mfold 3\u001B[0m for \u001B[1mLvl_0_Pipe_0_Mod_0_LinearL2\u001B[0m =====\n",
      "[19:12:55] Linear model: C = 1e-05 score = -0.5378583649353222\n",
      "[19:12:55] Linear model: C = 5e-05 score = -0.3133327543130836\n",
      "[19:12:55] Linear model: C = 0.0001 score = -0.2634616290447512\n",
      "[19:12:56] Linear model: C = 0.0005 score = -0.20710654956193741\n",
      "[19:12:56] Linear model: C = 0.001 score = -0.19797972871254635\n",
      "[19:12:57] Linear model: C = 0.005 score = -0.20039464888215178\n",
      "[19:12:57] Linear model: C = 0.01 score = -0.21234175310754763\n",
      "[19:12:57] ===== Start working with \u001B[1mfold 4\u001B[0m for \u001B[1mLvl_0_Pipe_0_Mod_0_LinearL2\u001B[0m =====\n",
      "[19:12:58] Linear model: C = 1e-05 score = -0.53579467507775\n",
      "[19:12:58] Linear model: C = 5e-05 score = -0.3076579551066408\n",
      "[19:12:59] Linear model: C = 0.0001 score = -0.2574989700910799\n",
      "[19:12:59] Linear model: C = 0.0005 score = -0.20194095802467021\n",
      "[19:13:00] Linear model: C = 0.001 score = -0.19367630241982745\n",
      "[19:13:00] Linear model: C = 0.005 score = -0.20060438214101753\n",
      "[19:13:01] Linear model: C = 0.01 score = -0.2141499826890732\n",
      "[19:13:01] Fitting \u001B[1mLvl_0_Pipe_0_Mod_0_LinearL2\u001B[0m finished. score = \u001B[1m-0.19523051293095728\u001B[0m\n",
      "[19:13:01] \u001B[1mLvl_0_Pipe_0_Mod_0_LinearL2\u001B[0m fitting and predicting completed\n",
      "[19:13:01] Time left 1182.86 secs\n",
      "[19:13:13] Start fitting \u001B[1mLvl_0_Pipe_1_Mod_0_CatBoost\u001B[0m ...\n",
      "[19:13:13] ===== Start working with \u001B[1mfold 0\u001B[0m for \u001B[1mLvl_0_Pipe_1_Mod_0_CatBoost\u001B[0m =====\n",
      "[19:13:14] 0:\tlearn: 1.7727620\ttest: 1.7741315\tbest: 1.7741315 (0)\ttotal: 67.6ms\tremaining: 3m 22s\n",
      "[19:13:17] bestTest = 1.309526913\n",
      "[19:13:17] bestIteration = 1464\n",
      "[19:13:17] Shrink model to first 1465 iterations.\n",
      "[19:13:17] ===== Start working with \u001B[1mfold 1\u001B[0m for \u001B[1mLvl_0_Pipe_1_Mod_0_CatBoost\u001B[0m =====\n",
      "[19:13:17] 0:\tlearn: 1.7733793\ttest: 1.7727341\tbest: 1.7727341 (0)\ttotal: 3.88ms\tremaining: 11.6s\n",
      "[19:13:20] bestTest = 1.227357689\n",
      "[19:13:20] bestIteration = 1435\n",
      "[19:13:20] Shrink model to first 1436 iterations.\n",
      "[19:13:20] ===== Start working with \u001B[1mfold 2\u001B[0m for \u001B[1mLvl_0_Pipe_1_Mod_0_CatBoost\u001B[0m =====\n",
      "[19:13:20] 0:\tlearn: 1.7734735\ttest: 1.7735687\tbest: 1.7735687 (0)\ttotal: 2.68ms\tremaining: 8.04s\n",
      "[19:13:23] bestTest = 1.264624122\n",
      "[19:13:23] bestIteration = 1252\n",
      "[19:13:23] Shrink model to first 1253 iterations.\n",
      "[19:13:23] ===== Start working with \u001B[1mfold 3\u001B[0m for \u001B[1mLvl_0_Pipe_1_Mod_0_CatBoost\u001B[0m =====\n",
      "[19:13:23] 0:\tlearn: 1.7722883\ttest: 1.7740493\tbest: 1.7740493 (0)\ttotal: 2.84ms\tremaining: 8.53s\n",
      "[19:13:26] bestTest = 1.265403054\n",
      "[19:13:26] bestIteration = 1370\n",
      "[19:13:26] Shrink model to first 1371 iterations.\n",
      "[19:13:26] ===== Start working with \u001B[1mfold 4\u001B[0m for \u001B[1mLvl_0_Pipe_1_Mod_0_CatBoost\u001B[0m =====\n",
      "[19:13:26] 0:\tlearn: 1.7725196\ttest: 1.7746523\tbest: 1.7746523 (0)\ttotal: 2.63ms\tremaining: 7.9s\n",
      "[19:13:29] bestTest = 1.283784143\n",
      "[19:13:29] bestIteration = 1478\n",
      "[19:13:29] Shrink model to first 1479 iterations.\n",
      "[19:13:29] Fitting \u001B[1mLvl_0_Pipe_1_Mod_0_CatBoost\u001B[0m finished. score = \u001B[1m-1.270139120373044\u001B[0m\n",
      "[19:13:29] \u001B[1mLvl_0_Pipe_1_Mod_0_CatBoost\u001B[0m fitting and predicting completed\n",
      "[19:13:29] Time left 1154.57 secs\n",
      "\n",
      "[19:13:29] \u001B[1mLayer 1 training completed.\u001B[0m\n",
      "\n",
      "[19:13:29] Blending: optimization starts with equal weights and score \u001B[1m-0.5127636366850333\u001B[0m\n",
      "[19:13:29] Blending: iteration \u001B[1m0\u001B[0m: score = \u001B[1m-0.19523051293095728\u001B[0m, weights = \u001B[1m[1. 0.]\u001B[0m\n",
      "[19:13:29] Blending: iteration \u001B[1m1\u001B[0m: score = \u001B[1m-0.19523051293095728\u001B[0m, weights = \u001B[1m[1. 0.]\u001B[0m\n",
      "[19:13:29] Blending: no score update. Terminated\n",
      "\n",
      "[19:13:29] \u001B[1mAutoml preset training completed in 45.55 seconds\u001B[0m\n",
      "\n",
      "[19:13:29] Model description:\n",
      "Final prediction for new objects (level 0) = \n",
      "\t 1.00000 * (5 averaged models Lvl_0_Pipe_0_Mod_0_LinearL2) \n",
      "\n",
      "CPU times: user 2min 32s, sys: 12.1 s, total: 2min 44s\n",
      "Wall time: 45.6 s\n"
     ]
    }
   ],
   "source": [
    "%%time\n",
    "\n",
    "oof_pred = automl.fit_predict(train_data, roles = roles, verbose = 3)"
   ],
   "metadata": {
    "collapsed": false,
    "ExecuteTime": {
     "end_time": "2023-11-09T16:13:29.554606484Z",
     "start_time": "2023-11-09T16:12:43.958716141Z"
    }
   },
   "id": "9108d843ea301e03"
  },
  {
   "cell_type": "code",
   "execution_count": 22,
   "outputs": [
    {
     "data": {
      "text/plain": "              image_id     label\n0     000000568082.jpg      bear\n1     000000224878.jpg      bear\n2     000000489983.jpg     horse\n3     000000265831.jpg     horse\n4     000000324816.jpg  elephant\n...                ...       ...\n8630  000000047983.jpg     zebra\n8631  000000047983.jpg   giraffe\n8632  000000400456.jpg     horse\n8633  000000514871.jpg  elephant\n8634  000000067590.jpg     horse\n\n[8635 rows x 2 columns]",
      "text/html": "<div>\n<style scoped>\n    .dataframe tbody tr th:only-of-type {\n        vertical-align: middle;\n    }\n\n    .dataframe tbody tr th {\n        vertical-align: top;\n    }\n\n    .dataframe thead th {\n        text-align: right;\n    }\n</style>\n<table border=\"1\" class=\"dataframe\">\n  <thead>\n    <tr style=\"text-align: right;\">\n      <th></th>\n      <th>image_id</th>\n      <th>label</th>\n    </tr>\n  </thead>\n  <tbody>\n    <tr>\n      <th>0</th>\n      <td>000000568082.jpg</td>\n      <td>bear</td>\n    </tr>\n    <tr>\n      <th>1</th>\n      <td>000000224878.jpg</td>\n      <td>bear</td>\n    </tr>\n    <tr>\n      <th>2</th>\n      <td>000000489983.jpg</td>\n      <td>horse</td>\n    </tr>\n    <tr>\n      <th>3</th>\n      <td>000000265831.jpg</td>\n      <td>horse</td>\n    </tr>\n    <tr>\n      <th>4</th>\n      <td>000000324816.jpg</td>\n      <td>elephant</td>\n    </tr>\n    <tr>\n      <th>...</th>\n      <td>...</td>\n      <td>...</td>\n    </tr>\n    <tr>\n      <th>8630</th>\n      <td>000000047983.jpg</td>\n      <td>zebra</td>\n    </tr>\n    <tr>\n      <th>8631</th>\n      <td>000000047983.jpg</td>\n      <td>giraffe</td>\n    </tr>\n    <tr>\n      <th>8632</th>\n      <td>000000400456.jpg</td>\n      <td>horse</td>\n    </tr>\n    <tr>\n      <th>8633</th>\n      <td>000000514871.jpg</td>\n      <td>elephant</td>\n    </tr>\n    <tr>\n      <th>8634</th>\n      <td>000000067590.jpg</td>\n      <td>horse</td>\n    </tr>\n  </tbody>\n</table>\n<p>8635 rows × 2 columns</p>\n</div>"
     },
     "execution_count": 22,
     "metadata": {},
     "output_type": "execute_result"
    }
   ],
   "source": [
    "preds = train_data[['image_id', 'label']]\n",
    "preds"
   ],
   "metadata": {
    "collapsed": false,
    "ExecuteTime": {
     "end_time": "2023-11-09T16:13:29.627037676Z",
     "start_time": "2023-11-09T16:13:29.564701901Z"
    }
   },
   "id": "3a78c57437020a9e"
  },
  {
   "cell_type": "code",
   "execution_count": 23,
   "outputs": [
    {
     "data": {
      "text/plain": "              image_id     label    pred_0    pred_1    pred_2    pred_3  \\\n0     000000568082.jpg      bear  0.003135  0.004316  0.000173  0.002481   \n1     000000224878.jpg      bear  0.004908  0.000819  0.001862  0.001079   \n2     000000489983.jpg     horse  0.931873  0.014786  0.006697  0.012019   \n3     000000265831.jpg     horse  0.988701  0.003189  0.004817  0.003052   \n4     000000324816.jpg  elephant  0.003984  0.004723  0.014207  0.973942   \n...                ...       ...       ...       ...       ...       ...   \n8630  000000047983.jpg     zebra  0.028826  0.155066  0.813262  0.001758   \n8631  000000047983.jpg   giraffe  0.028826  0.155066  0.813262  0.001758   \n8632  000000400456.jpg     horse  0.993108  0.003478  0.001575  0.001122   \n8633  000000514871.jpg  elephant  0.000226  0.000444  0.000742  0.997886   \n8634  000000067590.jpg     horse  0.999614  0.000005  0.000027  0.000331   \n\n        pred_4    pred_5  \n0     0.989673  0.000221  \n1     0.990100  0.001233  \n2     0.032527  0.002098  \n3     0.000135  0.000106  \n4     0.002545  0.000599  \n...        ...       ...  \n8630  0.000642  0.000446  \n8631  0.000642  0.000446  \n8632  0.000548  0.000169  \n8633  0.000586  0.000115  \n8634  0.000006  0.000017  \n\n[8635 rows x 8 columns]",
      "text/html": "<div>\n<style scoped>\n    .dataframe tbody tr th:only-of-type {\n        vertical-align: middle;\n    }\n\n    .dataframe tbody tr th {\n        vertical-align: top;\n    }\n\n    .dataframe thead th {\n        text-align: right;\n    }\n</style>\n<table border=\"1\" class=\"dataframe\">\n  <thead>\n    <tr style=\"text-align: right;\">\n      <th></th>\n      <th>image_id</th>\n      <th>label</th>\n      <th>pred_0</th>\n      <th>pred_1</th>\n      <th>pred_2</th>\n      <th>pred_3</th>\n      <th>pred_4</th>\n      <th>pred_5</th>\n    </tr>\n  </thead>\n  <tbody>\n    <tr>\n      <th>0</th>\n      <td>000000568082.jpg</td>\n      <td>bear</td>\n      <td>0.003135</td>\n      <td>0.004316</td>\n      <td>0.000173</td>\n      <td>0.002481</td>\n      <td>0.989673</td>\n      <td>0.000221</td>\n    </tr>\n    <tr>\n      <th>1</th>\n      <td>000000224878.jpg</td>\n      <td>bear</td>\n      <td>0.004908</td>\n      <td>0.000819</td>\n      <td>0.001862</td>\n      <td>0.001079</td>\n      <td>0.990100</td>\n      <td>0.001233</td>\n    </tr>\n    <tr>\n      <th>2</th>\n      <td>000000489983.jpg</td>\n      <td>horse</td>\n      <td>0.931873</td>\n      <td>0.014786</td>\n      <td>0.006697</td>\n      <td>0.012019</td>\n      <td>0.032527</td>\n      <td>0.002098</td>\n    </tr>\n    <tr>\n      <th>3</th>\n      <td>000000265831.jpg</td>\n      <td>horse</td>\n      <td>0.988701</td>\n      <td>0.003189</td>\n      <td>0.004817</td>\n      <td>0.003052</td>\n      <td>0.000135</td>\n      <td>0.000106</td>\n    </tr>\n    <tr>\n      <th>4</th>\n      <td>000000324816.jpg</td>\n      <td>elephant</td>\n      <td>0.003984</td>\n      <td>0.004723</td>\n      <td>0.014207</td>\n      <td>0.973942</td>\n      <td>0.002545</td>\n      <td>0.000599</td>\n    </tr>\n    <tr>\n      <th>...</th>\n      <td>...</td>\n      <td>...</td>\n      <td>...</td>\n      <td>...</td>\n      <td>...</td>\n      <td>...</td>\n      <td>...</td>\n      <td>...</td>\n    </tr>\n    <tr>\n      <th>8630</th>\n      <td>000000047983.jpg</td>\n      <td>zebra</td>\n      <td>0.028826</td>\n      <td>0.155066</td>\n      <td>0.813262</td>\n      <td>0.001758</td>\n      <td>0.000642</td>\n      <td>0.000446</td>\n    </tr>\n    <tr>\n      <th>8631</th>\n      <td>000000047983.jpg</td>\n      <td>giraffe</td>\n      <td>0.028826</td>\n      <td>0.155066</td>\n      <td>0.813262</td>\n      <td>0.001758</td>\n      <td>0.000642</td>\n      <td>0.000446</td>\n    </tr>\n    <tr>\n      <th>8632</th>\n      <td>000000400456.jpg</td>\n      <td>horse</td>\n      <td>0.993108</td>\n      <td>0.003478</td>\n      <td>0.001575</td>\n      <td>0.001122</td>\n      <td>0.000548</td>\n      <td>0.000169</td>\n    </tr>\n    <tr>\n      <th>8633</th>\n      <td>000000514871.jpg</td>\n      <td>elephant</td>\n      <td>0.000226</td>\n      <td>0.000444</td>\n      <td>0.000742</td>\n      <td>0.997886</td>\n      <td>0.000586</td>\n      <td>0.000115</td>\n    </tr>\n    <tr>\n      <th>8634</th>\n      <td>000000067590.jpg</td>\n      <td>horse</td>\n      <td>0.999614</td>\n      <td>0.000005</td>\n      <td>0.000027</td>\n      <td>0.000331</td>\n      <td>0.000006</td>\n      <td>0.000017</td>\n    </tr>\n  </tbody>\n</table>\n<p>8635 rows × 8 columns</p>\n</div>"
     },
     "execution_count": 23,
     "metadata": {},
     "output_type": "execute_result"
    }
   ],
   "source": [
    "for i in range(6):\n",
    "    preds['pred_' + str(i)] = oof_pred.data[:,i]\n",
    "\n",
    "preds"
   ],
   "metadata": {
    "collapsed": false,
    "ExecuteTime": {
     "end_time": "2023-11-09T16:13:29.650197365Z",
     "start_time": "2023-11-09T16:13:29.606134600Z"
    }
   },
   "id": "6e454a3cef9b096b"
  },
  {
   "cell_type": "code",
   "execution_count": 24,
   "outputs": [
    {
     "data": {
      "text/plain": "              image_id    label    pred_0    pred_1    pred_2    pred_3  \\\n0     000000000025.jpg  giraffe  0.000192  0.989427  0.009436  0.000342   \n1     000000000034.jpg    zebra  0.004647  0.012237  0.977957  0.003024   \n2     000000000049.jpg    horse  0.999452  0.000156  0.000141  0.000070   \n3     000000000072.jpg  giraffe  0.000510  0.997313  0.001274  0.000616   \n4     000000000144.jpg  giraffe  0.000415  0.988887  0.008932  0.001360   \n...                ...      ...       ...       ...       ...       ...   \n8630    Panda_3487.jpg    panda  0.014537  0.002093  0.004288  0.006363   \n8631    Panda_3572.jpg    panda  0.003355  0.000297  0.000903  0.002633   \n8632    Panda_3716.jpg    panda  0.047042  0.007739  0.014908  0.022996   \n8633    Panda_3720.jpg    panda  0.031863  0.017826  0.019910  0.020067   \n8634    Panda_3852.jpg    panda  0.007028  0.000218  0.000364  0.002252   \n\n        pred_4    pred_5  \n0     0.000541  0.000062  \n1     0.001350  0.000786  \n2     0.000132  0.000049  \n3     0.000163  0.000123  \n4     0.000296  0.000110  \n...        ...       ...  \n8630  0.486068  0.486651  \n8631  0.041119  0.951691  \n8632  0.077900  0.829415  \n8633  0.083949  0.826386  \n8634  0.099389  0.890749  \n\n[8635 rows x 8 columns]",
      "text/html": "<div>\n<style scoped>\n    .dataframe tbody tr th:only-of-type {\n        vertical-align: middle;\n    }\n\n    .dataframe tbody tr th {\n        vertical-align: top;\n    }\n\n    .dataframe thead th {\n        text-align: right;\n    }\n</style>\n<table border=\"1\" class=\"dataframe\">\n  <thead>\n    <tr style=\"text-align: right;\">\n      <th></th>\n      <th>image_id</th>\n      <th>label</th>\n      <th>pred_0</th>\n      <th>pred_1</th>\n      <th>pred_2</th>\n      <th>pred_3</th>\n      <th>pred_4</th>\n      <th>pred_5</th>\n    </tr>\n  </thead>\n  <tbody>\n    <tr>\n      <th>0</th>\n      <td>000000000025.jpg</td>\n      <td>giraffe</td>\n      <td>0.000192</td>\n      <td>0.989427</td>\n      <td>0.009436</td>\n      <td>0.000342</td>\n      <td>0.000541</td>\n      <td>0.000062</td>\n    </tr>\n    <tr>\n      <th>1</th>\n      <td>000000000034.jpg</td>\n      <td>zebra</td>\n      <td>0.004647</td>\n      <td>0.012237</td>\n      <td>0.977957</td>\n      <td>0.003024</td>\n      <td>0.001350</td>\n      <td>0.000786</td>\n    </tr>\n    <tr>\n      <th>2</th>\n      <td>000000000049.jpg</td>\n      <td>horse</td>\n      <td>0.999452</td>\n      <td>0.000156</td>\n      <td>0.000141</td>\n      <td>0.000070</td>\n      <td>0.000132</td>\n      <td>0.000049</td>\n    </tr>\n    <tr>\n      <th>3</th>\n      <td>000000000072.jpg</td>\n      <td>giraffe</td>\n      <td>0.000510</td>\n      <td>0.997313</td>\n      <td>0.001274</td>\n      <td>0.000616</td>\n      <td>0.000163</td>\n      <td>0.000123</td>\n    </tr>\n    <tr>\n      <th>4</th>\n      <td>000000000144.jpg</td>\n      <td>giraffe</td>\n      <td>0.000415</td>\n      <td>0.988887</td>\n      <td>0.008932</td>\n      <td>0.001360</td>\n      <td>0.000296</td>\n      <td>0.000110</td>\n    </tr>\n    <tr>\n      <th>...</th>\n      <td>...</td>\n      <td>...</td>\n      <td>...</td>\n      <td>...</td>\n      <td>...</td>\n      <td>...</td>\n      <td>...</td>\n      <td>...</td>\n    </tr>\n    <tr>\n      <th>8630</th>\n      <td>Panda_3487.jpg</td>\n      <td>panda</td>\n      <td>0.014537</td>\n      <td>0.002093</td>\n      <td>0.004288</td>\n      <td>0.006363</td>\n      <td>0.486068</td>\n      <td>0.486651</td>\n    </tr>\n    <tr>\n      <th>8631</th>\n      <td>Panda_3572.jpg</td>\n      <td>panda</td>\n      <td>0.003355</td>\n      <td>0.000297</td>\n      <td>0.000903</td>\n      <td>0.002633</td>\n      <td>0.041119</td>\n      <td>0.951691</td>\n    </tr>\n    <tr>\n      <th>8632</th>\n      <td>Panda_3716.jpg</td>\n      <td>panda</td>\n      <td>0.047042</td>\n      <td>0.007739</td>\n      <td>0.014908</td>\n      <td>0.022996</td>\n      <td>0.077900</td>\n      <td>0.829415</td>\n    </tr>\n    <tr>\n      <th>8633</th>\n      <td>Panda_3720.jpg</td>\n      <td>panda</td>\n      <td>0.031863</td>\n      <td>0.017826</td>\n      <td>0.019910</td>\n      <td>0.020067</td>\n      <td>0.083949</td>\n      <td>0.826386</td>\n    </tr>\n    <tr>\n      <th>8634</th>\n      <td>Panda_3852.jpg</td>\n      <td>panda</td>\n      <td>0.007028</td>\n      <td>0.000218</td>\n      <td>0.000364</td>\n      <td>0.002252</td>\n      <td>0.099389</td>\n      <td>0.890749</td>\n    </tr>\n  </tbody>\n</table>\n<p>8635 rows × 8 columns</p>\n</div>"
     },
     "execution_count": 24,
     "metadata": {},
     "output_type": "execute_result"
    }
   ],
   "source": [
    "preds = preds.groupby(['image_id', 'label']).mean().reset_index()\n",
    "preds"
   ],
   "metadata": {
    "collapsed": false,
    "ExecuteTime": {
     "end_time": "2023-11-09T16:13:29.729889373Z",
     "start_time": "2023-11-09T16:13:29.606512294Z"
    }
   },
   "id": "ad6ddd386a9ae871"
  },
  {
   "cell_type": "code",
   "execution_count": 25,
   "outputs": [
    {
     "data": {
      "text/plain": "array([1, 2, 0, ..., 5, 5, 5])"
     },
     "execution_count": 25,
     "metadata": {},
     "output_type": "execute_result"
    }
   ],
   "source": [
    "OOFs = np.argmax(preds[['pred_' + str(i) for i in range(6)]].values, axis = 1)\n",
    "OOFs"
   ],
   "metadata": {
    "collapsed": false,
    "ExecuteTime": {
     "end_time": "2023-11-09T16:13:29.731267869Z",
     "start_time": "2023-11-09T16:13:29.650472890Z"
    }
   },
   "id": "a3ab72c80de1354c"
  },
  {
   "cell_type": "code",
   "execution_count": 26,
   "outputs": [
    {
     "name": "stdout",
     "output_type": "stream",
     "text": [
      "Out-of-fold accuracy: 0.9438332368268674\n"
     ]
    }
   ],
   "source": [
    "accuracy = (OOFs == preds['label'].map(automl.reader.class_mapping)).mean()\n",
    "print(f'Out-of-fold accuracy: {accuracy}')"
   ],
   "metadata": {
    "collapsed": false,
    "ExecuteTime": {
     "end_time": "2023-11-09T16:13:29.731457246Z",
     "start_time": "2023-11-09T16:13:29.650725230Z"
    }
   },
   "id": "1261c758aa022728"
  },
  {
   "cell_type": "code",
   "execution_count": 27,
   "outputs": [
    {
     "data": {
      "text/plain": "<Figure size 1000x1000 with 2 Axes>",
      "image/png": "[encoded data removed]"
     },
     "metadata": {},
     "output_type": "display_data"
    }
   ],
   "source": [
    "cf_matrix = confusion_matrix(preds['label'].map(automl.reader.class_mapping), OOFs)\n",
    "\n",
    "plt.figure(figsize = (10, 10))\n",
    "\n",
    "ax = sns.heatmap(cf_matrix, annot=True, cmap='Blues', fmt = 'd')\n",
    "\n",
    "ax.set_title('Seaborn Confusion Matrix with labels\\n\\n');\n",
    "ax.set_xlabel('\\nPredicted Values')\n",
    "ax.set_ylabel('Actual Values ');\n",
    "\n",
    "inverse_class_mapping = {y: x for x,y in automl.reader.class_mapping.items()}\n",
    "labels = [inverse_class_mapping[i] for i in range(len(inverse_class_mapping))]\n",
    "ax.xaxis.set_ticklabels(labels, rotation = 90)\n",
    "ax.yaxis.set_ticklabels(labels, rotation = 0)\n",
    "\n",
    "plt.show()"
   ],
   "metadata": {
    "collapsed": false,
    "ExecuteTime": {
     "end_time": "2023-11-09T16:13:29.903217839Z",
     "start_time": "2023-11-09T16:13:29.650906892Z"
    }
   },
   "id": "55d914b0500dbdb"
  },
  {
   "cell_type": "code",
   "execution_count": 28,
   "outputs": [
    {
     "name": "stdout",
     "output_type": "stream",
     "text": [
      "[19:13:29] Load saved dataset for path\n",
      "[19:13:29] Feature path transformed\n",
      "Prediction for te_data:\n",
      "array([[3.5969845e-03, 1.0720321e-02, 9.7946537e-01, 3.7339814e-03,\n",
      "        1.8094809e-03, 6.7386829e-04],\n",
      "       [7.2597130e-03, 2.0958516e-03, 5.6761055e-04, 9.8940259e-01,\n",
      "        4.0288270e-04, 2.7139822e-04],\n",
      "       [9.2423020e-04, 9.8299444e-01, 1.5540873e-02, 2.6657403e-04,\n",
      "        2.2886065e-04, 4.4995515e-05],\n",
      "       ...,\n",
      "       [9.9419174e-04, 9.8212898e-01, 1.5786530e-02, 2.7681110e-04,\n",
      "        6.8190170e-04, 1.3159416e-04],\n",
      "       [8.7403297e-01, 5.6710720e-02, 2.9600612e-03, 3.1354714e-02,\n",
      "        3.3111297e-02, 1.8302202e-03],\n",
      "       [1.7202261e-03, 1.9783929e-02, 9.7088432e-01, 6.0206228e-03,\n",
      "        1.0517532e-03, 5.3918688e-04]], dtype=float32)\n",
      "Shape = (388, 6)\n",
      "CPU times: user 138 ms, sys: 4.56 ms, total: 143 ms\n",
      "Wall time: 57.9 ms\n"
     ]
    }
   ],
   "source": [
    "%%time\n",
    "\n",
    "te_pred = automl.predict(submission)\n",
    "print(f'Prediction for te_data:\\n{te_pred}\\nShape = {te_pred.shape}')"
   ],
   "metadata": {
    "collapsed": false,
    "ExecuteTime": {
     "end_time": "2023-11-09T16:13:29.966302348Z",
     "start_time": "2023-11-09T16:13:29.868376725Z"
    }
   },
   "id": "ba00b48883c86f16"
  },
  {
   "cell_type": "code",
   "execution_count": 29,
   "outputs": [
    {
     "name": "stderr",
     "output_type": "stream",
     "text": [
      "/tmp/ipykernel_4507/2899387979.py:3: SettingWithCopyWarning: \n",
      "A value is trying to be set on a copy of a slice from a DataFrame.\n",
      "Try using .loc[row_indexer,col_indexer] = value instead\n",
      "\n",
      "See the caveats in the documentation: https://pandas.pydata.org/pandas-docs/stable/user_guide/indexing.html#returning-a-view-versus-a-copy\n",
      "  sub['pred_' + str(i)] = te_pred.data[:,i]\n"
     ]
    },
    {
     "data": {
      "text/plain": "             image_id    pred_0    pred_1    pred_2    pred_3    pred_4  \\\n0    000000068933.jpg  0.003597  0.010720  0.979465  0.003734  0.001809   \n1    000000170739.jpg  0.007260  0.002096  0.000568  0.989403  0.000403   \n2    000000104619.jpg  0.000924  0.982994  0.015541  0.000267  0.000229   \n3    000000029187.jpg  0.998958  0.000266  0.000309  0.000204  0.000183   \n4    000000132622.jpg  0.012177  0.001665  0.008293  0.002965  0.972606   \n..                ...       ...       ...       ...       ...       ...   \n383  000000529105.jpg  0.665421  0.006047  0.093377  0.022765  0.211565   \n384  000000377486.jpg  0.983069  0.002365  0.001369  0.011767  0.000953   \n385  000000217614.jpg  0.000994  0.982129  0.015787  0.000277  0.000682   \n386  000000226883.jpg  0.874033  0.056711  0.002960  0.031355  0.033111   \n387  000000159311.jpg  0.001720  0.019784  0.970884  0.006021  0.001052   \n\n       pred_5  \n0    0.000674  \n1    0.000271  \n2    0.000045  \n3    0.000081  \n4    0.002294  \n..        ...  \n383  0.000825  \n384  0.000477  \n385  0.000132  \n386  0.001830  \n387  0.000539  \n\n[388 rows x 7 columns]",
      "text/html": "<div>\n<style scoped>\n    .dataframe tbody tr th:only-of-type {\n        vertical-align: middle;\n    }\n\n    .dataframe tbody tr th {\n        vertical-align: top;\n    }\n\n    .dataframe thead th {\n        text-align: right;\n    }\n</style>\n<table border=\"1\" class=\"dataframe\">\n  <thead>\n    <tr style=\"text-align: right;\">\n      <th></th>\n      <th>image_id</th>\n      <th>pred_0</th>\n      <th>pred_1</th>\n      <th>pred_2</th>\n      <th>pred_3</th>\n      <th>pred_4</th>\n      <th>pred_5</th>\n    </tr>\n  </thead>\n  <tbody>\n    <tr>\n      <th>0</th>\n      <td>000000068933.jpg</td>\n      <td>0.003597</td>\n      <td>0.010720</td>\n      <td>0.979465</td>\n      <td>0.003734</td>\n      <td>0.001809</td>\n      <td>0.000674</td>\n    </tr>\n    <tr>\n      <th>1</th>\n      <td>000000170739.jpg</td>\n      <td>0.007260</td>\n      <td>0.002096</td>\n      <td>0.000568</td>\n      <td>0.989403</td>\n      <td>0.000403</td>\n      <td>0.000271</td>\n    </tr>\n    <tr>\n      <th>2</th>\n      <td>000000104619.jpg</td>\n      <td>0.000924</td>\n      <td>0.982994</td>\n      <td>0.015541</td>\n      <td>0.000267</td>\n      <td>0.000229</td>\n      <td>0.000045</td>\n    </tr>\n    <tr>\n      <th>3</th>\n      <td>000000029187.jpg</td>\n      <td>0.998958</td>\n      <td>0.000266</td>\n      <td>0.000309</td>\n      <td>0.000204</td>\n      <td>0.000183</td>\n      <td>0.000081</td>\n    </tr>\n    <tr>\n      <th>4</th>\n      <td>000000132622.jpg</td>\n      <td>0.012177</td>\n      <td>0.001665</td>\n      <td>0.008293</td>\n      <td>0.002965</td>\n      <td>0.972606</td>\n      <td>0.002294</td>\n    </tr>\n    <tr>\n      <th>...</th>\n      <td>...</td>\n      <td>...</td>\n      <td>...</td>\n      <td>...</td>\n      <td>...</td>\n      <td>...</td>\n      <td>...</td>\n    </tr>\n    <tr>\n      <th>383</th>\n      <td>000000529105.jpg</td>\n      <td>0.665421</td>\n      <td>0.006047</td>\n      <td>0.093377</td>\n      <td>0.022765</td>\n      <td>0.211565</td>\n      <td>0.000825</td>\n    </tr>\n    <tr>\n      <th>384</th>\n      <td>000000377486.jpg</td>\n      <td>0.983069</td>\n      <td>0.002365</td>\n      <td>0.001369</td>\n      <td>0.011767</td>\n      <td>0.000953</td>\n      <td>0.000477</td>\n    </tr>\n    <tr>\n      <th>385</th>\n      <td>000000217614.jpg</td>\n      <td>0.000994</td>\n      <td>0.982129</td>\n      <td>0.015787</td>\n      <td>0.000277</td>\n      <td>0.000682</td>\n      <td>0.000132</td>\n    </tr>\n    <tr>\n      <th>386</th>\n      <td>000000226883.jpg</td>\n      <td>0.874033</td>\n      <td>0.056711</td>\n      <td>0.002960</td>\n      <td>0.031355</td>\n      <td>0.033111</td>\n      <td>0.001830</td>\n    </tr>\n    <tr>\n      <th>387</th>\n      <td>000000159311.jpg</td>\n      <td>0.001720</td>\n      <td>0.019784</td>\n      <td>0.970884</td>\n      <td>0.006021</td>\n      <td>0.001052</td>\n      <td>0.000539</td>\n    </tr>\n  </tbody>\n</table>\n<p>388 rows × 7 columns</p>\n</div>"
     },
     "execution_count": 29,
     "metadata": {},
     "output_type": "execute_result"
    }
   ],
   "source": [
    "sub = submission[['image_id']]\n",
    "for i in range(6):\n",
    "    sub['pred_' + str(i)] = te_pred.data[:,i]\n",
    "\n",
    "sub"
   ],
   "metadata": {
    "collapsed": false,
    "ExecuteTime": {
     "end_time": "2023-11-09T16:13:29.967129745Z",
     "start_time": "2023-11-09T16:13:29.936398630Z"
    }
   },
   "id": "59b3da44da58d40a"
  },
  {
   "cell_type": "code",
   "execution_count": 30,
   "outputs": [],
   "source": [
    "# sub = sub.groupby(['image_id']).mean().reset_index()\n",
    "# sub"
   ],
   "metadata": {
    "collapsed": false,
    "ExecuteTime": {
     "end_time": "2023-11-09T16:13:29.983117751Z",
     "start_time": "2023-11-09T16:13:29.939268110Z"
    }
   },
   "id": "baa6332977794371"
  },
  {
   "cell_type": "code",
   "execution_count": 31,
   "outputs": [
    {
     "data": {
      "text/plain": "0         zebra\n1      elephant\n2       giraffe\n3         horse\n4          bear\n         ...   \n383       horse\n384       horse\n385     giraffe\n386       horse\n387       zebra\nLength: 388, dtype: object"
     },
     "execution_count": 31,
     "metadata": {},
     "output_type": "execute_result"
    }
   ],
   "source": [
    "TEs = pd.Series(np.argmax(sub[['pred_' + str(i) for i in range(6)]].values, axis = 1)).map(inverse_class_mapping)\n",
    "TEs"
   ],
   "metadata": {
    "collapsed": false,
    "ExecuteTime": {
     "end_time": "2023-11-09T16:13:29.983824533Z",
     "start_time": "2023-11-09T16:13:29.982454203Z"
    }
   },
   "id": "ea9f4e6dc652ab4f"
  },
  {
   "cell_type": "code",
   "execution_count": 32,
   "outputs": [
    {
     "data": {
      "text/plain": "             image_id     label\n0    000000068933.jpg     zebra\n1    000000170739.jpg  elephant\n2    000000104619.jpg   giraffe\n3    000000029187.jpg     horse\n4    000000132622.jpg      bear\n..                ...       ...\n383  000000529105.jpg     horse\n384  000000377486.jpg     horse\n385  000000217614.jpg   giraffe\n386  000000226883.jpg     horse\n387  000000159311.jpg     zebra\n\n[388 rows x 2 columns]",
      "text/html": "<div>\n<style scoped>\n    .dataframe tbody tr th:only-of-type {\n        vertical-align: middle;\n    }\n\n    .dataframe tbody tr th {\n        vertical-align: top;\n    }\n\n    .dataframe thead th {\n        text-align: right;\n    }\n</style>\n<table border=\"1\" class=\"dataframe\">\n  <thead>\n    <tr style=\"text-align: right;\">\n      <th></th>\n      <th>image_id</th>\n      <th>label</th>\n    </tr>\n  </thead>\n  <tbody>\n    <tr>\n      <th>0</th>\n      <td>000000068933.jpg</td>\n      <td>zebra</td>\n    </tr>\n    <tr>\n      <th>1</th>\n      <td>000000170739.jpg</td>\n      <td>elephant</td>\n    </tr>\n    <tr>\n      <th>2</th>\n      <td>000000104619.jpg</td>\n      <td>giraffe</td>\n    </tr>\n    <tr>\n      <th>3</th>\n      <td>000000029187.jpg</td>\n      <td>horse</td>\n    </tr>\n    <tr>\n      <th>4</th>\n      <td>000000132622.jpg</td>\n      <td>bear</td>\n    </tr>\n    <tr>\n      <th>...</th>\n      <td>...</td>\n      <td>...</td>\n    </tr>\n    <tr>\n      <th>383</th>\n      <td>000000529105.jpg</td>\n      <td>horse</td>\n    </tr>\n    <tr>\n      <th>384</th>\n      <td>000000377486.jpg</td>\n      <td>horse</td>\n    </tr>\n    <tr>\n      <th>385</th>\n      <td>000000217614.jpg</td>\n      <td>giraffe</td>\n    </tr>\n    <tr>\n      <th>386</th>\n      <td>000000226883.jpg</td>\n      <td>horse</td>\n    </tr>\n    <tr>\n      <th>387</th>\n      <td>000000159311.jpg</td>\n      <td>zebra</td>\n    </tr>\n  </tbody>\n</table>\n<p>388 rows × 2 columns</p>\n</div>"
     },
     "execution_count": 32,
     "metadata": {},
     "output_type": "execute_result"
    }
   ],
   "source": [
    "sub['label'] = TEs\n",
    "sub[['image_id', 'label']].to_csv('LightAutoML_TabularCVAutoML_with_aug.csv', index = False)\n",
    "sub[['image_id', 'label']]"
   ],
   "metadata": {
    "collapsed": false,
    "ExecuteTime": {
     "end_time": "2023-11-09T16:13:29.984500275Z",
     "start_time": "2023-11-09T16:13:29.982894067Z"
    }
   },
   "id": "488336ebc986c59a"
  },
  {
   "cell_type": "code",
   "execution_count": 33,
   "outputs": [
    {
     "data": {
      "text/plain": "array([[3.5969845e-03, 1.0720321e-02, 9.7946537e-01, 3.7339814e-03,\n        1.8094809e-03, 6.7386829e-04],\n       [7.2597130e-03, 2.0958516e-03, 5.6761055e-04, 9.8940259e-01,\n        4.0288270e-04, 2.7139822e-04],\n       [9.2423020e-04, 9.8299444e-01, 1.5540873e-02, 2.6657403e-04,\n        2.2886065e-04, 4.4995515e-05],\n       ...,\n       [9.9419174e-04, 9.8212898e-01, 1.5786530e-02, 2.7681110e-04,\n        6.8190170e-04, 1.3159416e-04],\n       [8.7403297e-01, 5.6710720e-02, 2.9600612e-03, 3.1354714e-02,\n        3.3111297e-02, 1.8302202e-03],\n       [1.7202261e-03, 1.9783929e-02, 9.7088432e-01, 6.0206228e-03,\n        1.0517532e-03, 5.3918688e-04]], dtype=float32)"
     },
     "execution_count": 33,
     "metadata": {},
     "output_type": "execute_result"
    }
   ],
   "source": [
    "te_pred"
   ],
   "metadata": {
    "collapsed": false,
    "ExecuteTime": {
     "end_time": "2023-11-09T16:13:29.985551315Z",
     "start_time": "2023-11-09T16:13:29.983309433Z"
    }
   },
   "id": "93899c3e9ee0bb10"
  },
  {
   "cell_type": "code",
   "execution_count": 34,
   "outputs": [
    {
     "ename": "AssertionError",
     "evalue": "Numpy dataset support only np.ndarray features",
     "output_type": "error",
     "traceback": [
      "\u001B[0;31m---------------------------------------------------------------------------\u001B[0m",
      "\u001B[0;31mAssertionError\u001B[0m                            Traceback (most recent call last)",
      "Cell \u001B[0;32mIn[34], line 1\u001B[0m\n\u001B[0;32m----> 1\u001B[0m te_pred__ \u001B[38;5;241m=\u001B[39m \u001B[43mnp\u001B[49m\u001B[38;5;241;43m.\u001B[39;49m\u001B[43margmax\u001B[49m\u001B[43m(\u001B[49m\u001B[43mte_pred\u001B[49m\u001B[43m)\u001B[49m\n\u001B[1;32m      2\u001B[0m te_pred__\n",
      "File \u001B[0;32m<__array_function__ internals>:200\u001B[0m, in \u001B[0;36margmax\u001B[0;34m(*args, **kwargs)\u001B[0m\n",
      "File \u001B[0;32m~/anaconda/envs/CV-Project/lib/python3.9/site-packages/numpy/core/fromnumeric.py:1242\u001B[0m, in \u001B[0;36margmax\u001B[0;34m(a, axis, out, keepdims)\u001B[0m\n\u001B[1;32m   1155\u001B[0m \u001B[38;5;250m\u001B[39m\u001B[38;5;124;03m\"\"\"\u001B[39;00m\n\u001B[1;32m   1156\u001B[0m \u001B[38;5;124;03mReturns the indices of the maximum values along an axis.\u001B[39;00m\n\u001B[1;32m   1157\u001B[0m \n\u001B[0;32m   (...)\u001B[0m\n\u001B[1;32m   1239\u001B[0m \u001B[38;5;124;03m(2, 1, 4)\u001B[39;00m\n\u001B[1;32m   1240\u001B[0m \u001B[38;5;124;03m\"\"\"\u001B[39;00m\n\u001B[1;32m   1241\u001B[0m kwds \u001B[38;5;241m=\u001B[39m {\u001B[38;5;124m'\u001B[39m\u001B[38;5;124mkeepdims\u001B[39m\u001B[38;5;124m'\u001B[39m: keepdims} \u001B[38;5;28;01mif\u001B[39;00m keepdims \u001B[38;5;129;01mis\u001B[39;00m \u001B[38;5;129;01mnot\u001B[39;00m np\u001B[38;5;241m.\u001B[39m_NoValue \u001B[38;5;28;01melse\u001B[39;00m {}\n\u001B[0;32m-> 1242\u001B[0m \u001B[38;5;28;01mreturn\u001B[39;00m \u001B[43m_wrapfunc\u001B[49m\u001B[43m(\u001B[49m\u001B[43ma\u001B[49m\u001B[43m,\u001B[49m\u001B[43m \u001B[49m\u001B[38;5;124;43m'\u001B[39;49m\u001B[38;5;124;43margmax\u001B[39;49m\u001B[38;5;124;43m'\u001B[39;49m\u001B[43m,\u001B[49m\u001B[43m \u001B[49m\u001B[43maxis\u001B[49m\u001B[38;5;241;43m=\u001B[39;49m\u001B[43maxis\u001B[49m\u001B[43m,\u001B[49m\u001B[43m \u001B[49m\u001B[43mout\u001B[49m\u001B[38;5;241;43m=\u001B[39;49m\u001B[43mout\u001B[49m\u001B[43m,\u001B[49m\u001B[43m \u001B[49m\u001B[38;5;241;43m*\u001B[39;49m\u001B[38;5;241;43m*\u001B[39;49m\u001B[43mkwds\u001B[49m\u001B[43m)\u001B[49m\n",
      "File \u001B[0;32m~/anaconda/envs/CV-Project/lib/python3.9/site-packages/numpy/core/fromnumeric.py:54\u001B[0m, in \u001B[0;36m_wrapfunc\u001B[0;34m(obj, method, *args, **kwds)\u001B[0m\n\u001B[1;32m     52\u001B[0m bound \u001B[38;5;241m=\u001B[39m \u001B[38;5;28mgetattr\u001B[39m(obj, method, \u001B[38;5;28;01mNone\u001B[39;00m)\n\u001B[1;32m     53\u001B[0m \u001B[38;5;28;01mif\u001B[39;00m bound \u001B[38;5;129;01mis\u001B[39;00m \u001B[38;5;28;01mNone\u001B[39;00m:\n\u001B[0;32m---> 54\u001B[0m     \u001B[38;5;28;01mreturn\u001B[39;00m \u001B[43m_wrapit\u001B[49m\u001B[43m(\u001B[49m\u001B[43mobj\u001B[49m\u001B[43m,\u001B[49m\u001B[43m \u001B[49m\u001B[43mmethod\u001B[49m\u001B[43m,\u001B[49m\u001B[43m \u001B[49m\u001B[38;5;241;43m*\u001B[39;49m\u001B[43margs\u001B[49m\u001B[43m,\u001B[49m\u001B[43m \u001B[49m\u001B[38;5;241;43m*\u001B[39;49m\u001B[38;5;241;43m*\u001B[39;49m\u001B[43mkwds\u001B[49m\u001B[43m)\u001B[49m\n\u001B[1;32m     56\u001B[0m \u001B[38;5;28;01mtry\u001B[39;00m:\n\u001B[1;32m     57\u001B[0m     \u001B[38;5;28;01mreturn\u001B[39;00m bound(\u001B[38;5;241m*\u001B[39margs, \u001B[38;5;241m*\u001B[39m\u001B[38;5;241m*\u001B[39mkwds)\n",
      "File \u001B[0;32m~/anaconda/envs/CV-Project/lib/python3.9/site-packages/numpy/core/fromnumeric.py:43\u001B[0m, in \u001B[0;36m_wrapit\u001B[0;34m(obj, method, *args, **kwds)\u001B[0m\n\u001B[1;32m     41\u001B[0m \u001B[38;5;28;01mexcept\u001B[39;00m \u001B[38;5;167;01mAttributeError\u001B[39;00m:\n\u001B[1;32m     42\u001B[0m     wrap \u001B[38;5;241m=\u001B[39m \u001B[38;5;28;01mNone\u001B[39;00m\n\u001B[0;32m---> 43\u001B[0m result \u001B[38;5;241m=\u001B[39m \u001B[38;5;28mgetattr\u001B[39m(\u001B[43masarray\u001B[49m\u001B[43m(\u001B[49m\u001B[43mobj\u001B[49m\u001B[43m)\u001B[49m, method)(\u001B[38;5;241m*\u001B[39margs, \u001B[38;5;241m*\u001B[39m\u001B[38;5;241m*\u001B[39mkwds)\n\u001B[1;32m     44\u001B[0m \u001B[38;5;28;01mif\u001B[39;00m wrap:\n\u001B[1;32m     45\u001B[0m     \u001B[38;5;28;01mif\u001B[39;00m \u001B[38;5;129;01mnot\u001B[39;00m \u001B[38;5;28misinstance\u001B[39m(result, mu\u001B[38;5;241m.\u001B[39mndarray):\n",
      "File \u001B[0;32m~/anaconda/envs/CV-Project/lib/python3.9/site-packages/lightautoml/dataset/base.py:155\u001B[0m, in \u001B[0;36mLAMLDataset.__getitem__\u001B[0;34m(self, k)\u001B[0m\n\u001B[1;32m    152\u001B[0m     dataset\u001B[38;5;241m.\u001B[39m_initialize(\u001B[38;5;28mself\u001B[39m\u001B[38;5;241m.\u001B[39mtask, \u001B[38;5;241m*\u001B[39m\u001B[38;5;241m*\u001B[39mparams)\n\u001B[1;32m    153\u001B[0m     data \u001B[38;5;241m=\u001B[39m \u001B[38;5;28mself\u001B[39m\u001B[38;5;241m.\u001B[39m_get_rows(data, rows)\n\u001B[0;32m--> 155\u001B[0m \u001B[43mdataset\u001B[49m\u001B[38;5;241;43m.\u001B[39;49m\u001B[43mset_data\u001B[49m\u001B[43m(\u001B[49m\u001B[43mdata\u001B[49m\u001B[43m,\u001B[49m\u001B[43m \u001B[49m\u001B[43mfeatures\u001B[49m\u001B[43m,\u001B[49m\u001B[43m \u001B[49m\u001B[43mroles\u001B[49m\u001B[43m)\u001B[49m\n\u001B[1;32m    157\u001B[0m \u001B[38;5;28;01mreturn\u001B[39;00m dataset\n",
      "File \u001B[0;32m~/anaconda/envs/CV-Project/lib/python3.9/site-packages/lightautoml/dataset/np_pd_dataset.py:199\u001B[0m, in \u001B[0;36mNumpyDataset.set_data\u001B[0;34m(self, data, features, roles)\u001B[0m\n\u001B[1;32m    176\u001B[0m \u001B[38;5;28;01mdef\u001B[39;00m \u001B[38;5;21mset_data\u001B[39m(\u001B[38;5;28mself\u001B[39m, data: DenseSparseArray, features: NpFeatures \u001B[38;5;241m=\u001B[39m (), roles: NpRoles \u001B[38;5;241m=\u001B[39m \u001B[38;5;28;01mNone\u001B[39;00m):\n\u001B[1;32m    177\u001B[0m \u001B[38;5;250m    \u001B[39m\u001B[38;5;124;03m\"\"\"Inplace set data, features, roles for empty dataset.\u001B[39;00m\n\u001B[1;32m    178\u001B[0m \n\u001B[1;32m    179\u001B[0m \u001B[38;5;124;03m    Args:\u001B[39;00m\n\u001B[0;32m   (...)\u001B[0m\n\u001B[1;32m    197\u001B[0m \n\u001B[1;32m    198\u001B[0m \u001B[38;5;124;03m    \"\"\"\u001B[39;00m\n\u001B[0;32m--> 199\u001B[0m     \u001B[38;5;28;01massert\u001B[39;00m data \u001B[38;5;129;01mis\u001B[39;00m \u001B[38;5;28;01mNone\u001B[39;00m \u001B[38;5;129;01mor\u001B[39;00m \u001B[38;5;28mtype\u001B[39m(data) \u001B[38;5;129;01mis\u001B[39;00m np\u001B[38;5;241m.\u001B[39mndarray, \u001B[38;5;124m\"\u001B[39m\u001B[38;5;124mNumpy dataset support only np.ndarray features\u001B[39m\u001B[38;5;124m\"\u001B[39m\n\u001B[1;32m    200\u001B[0m     \u001B[38;5;28msuper\u001B[39m()\u001B[38;5;241m.\u001B[39mset_data(data, features, roles)\n\u001B[1;32m    201\u001B[0m     \u001B[38;5;28mself\u001B[39m\u001B[38;5;241m.\u001B[39m_check_dtype()\n",
      "\u001B[0;31mAssertionError\u001B[0m: Numpy dataset support only np.ndarray features"
     ]
    }
   ],
   "source": [
    "# te_pred__ = np.argmax(te_pred)\n",
    "# te_pred__"
   ],
   "metadata": {
    "collapsed": false,
    "ExecuteTime": {
     "end_time": "2023-11-09T16:13:30.319797347Z",
     "start_time": "2023-11-09T16:13:29.983488561Z"
    }
   },
   "id": "d4587b5cf61abb97"
  },
  {
   "cell_type": "code",
   "execution_count": 35,
   "outputs": [
    {
     "data": {
      "text/plain": "0.9356831622385448"
     },
     "execution_count": 35,
     "metadata": {},
     "output_type": "execute_result"
    }
   ],
   "source": [
    "from sklearn.metrics import f1_score, recall_score, precision_score, roc_auc_score\n",
    "\n",
    "f1_score(TEs, submission['label'], average=\"weighted\")"
   ],
   "metadata": {
    "collapsed": false,
    "ExecuteTime": {
     "end_time": "2023-11-09T16:55:28.026497314Z",
     "start_time": "2023-11-09T16:55:27.982596547Z"
    }
   },
   "id": "d54090d38fe42fe3"
  },
  {
   "cell_type": "code",
   "execution_count": 36,
   "outputs": [
    {
     "data": {
      "text/plain": "0.9355670103092784"
     },
     "execution_count": 36,
     "metadata": {},
     "output_type": "execute_result"
    }
   ],
   "source": [
    "recall_score(TEs, submission['label'], average=\"weighted\")"
   ],
   "metadata": {
    "collapsed": false,
    "ExecuteTime": {
     "end_time": "2023-11-09T16:55:28.188387219Z",
     "start_time": "2023-11-09T16:55:28.185617943Z"
    }
   },
   "id": "7f11dd4a3c329f5d"
  },
  {
   "cell_type": "code",
   "execution_count": 37,
   "outputs": [
    {
     "data": {
      "text/plain": "0.9364334868675709"
     },
     "execution_count": 37,
     "metadata": {},
     "output_type": "execute_result"
    }
   ],
   "source": [
    "precision_score(TEs, submission['label'], average=\"weighted\")"
   ],
   "metadata": {
    "collapsed": false,
    "ExecuteTime": {
     "end_time": "2023-11-09T16:55:28.372013029Z",
     "start_time": "2023-11-09T16:55:28.365660867Z"
    }
   },
   "id": "704375947c02f66e"
  },
  {
   "cell_type": "code",
   "execution_count": 38,
   "outputs": [
    {
     "ename": "ValueError",
     "evalue": "could not convert string to float: 'zebra'",
     "output_type": "error",
     "traceback": [
      "\u001B[0;31m---------------------------------------------------------------------------\u001B[0m",
      "\u001B[0;31mValueError\u001B[0m                                Traceback (most recent call last)",
      "Cell \u001B[0;32mIn[38], line 1\u001B[0m\n\u001B[0;32m----> 1\u001B[0m \u001B[43mroc_auc_score\u001B[49m\u001B[43m(\u001B[49m\u001B[43mTEs\u001B[49m\u001B[43m,\u001B[49m\u001B[43m \u001B[49m\u001B[43msubmission\u001B[49m\u001B[43m[\u001B[49m\u001B[38;5;124;43m'\u001B[39;49m\u001B[38;5;124;43mlabel\u001B[39;49m\u001B[38;5;124;43m'\u001B[39;49m\u001B[43m]\u001B[49m\u001B[43m,\u001B[49m\u001B[43m \u001B[49m\u001B[43maverage\u001B[49m\u001B[38;5;241;43m=\u001B[39;49m\u001B[38;5;124;43m\"\u001B[39;49m\u001B[38;5;124;43mweighted\u001B[39;49m\u001B[38;5;124;43m\"\u001B[39;49m\u001B[43m)\u001B[49m\n",
      "File \u001B[0;32m~/anaconda/envs/CV-Project/lib/python3.9/site-packages/sklearn/metrics/_ranking.py:551\u001B[0m, in \u001B[0;36mroc_auc_score\u001B[0;34m(y_true, y_score, average, sample_weight, max_fpr, multi_class, labels)\u001B[0m\n\u001B[1;32m    549\u001B[0m y_type \u001B[38;5;241m=\u001B[39m type_of_target(y_true, input_name\u001B[38;5;241m=\u001B[39m\u001B[38;5;124m\"\u001B[39m\u001B[38;5;124my_true\u001B[39m\u001B[38;5;124m\"\u001B[39m)\n\u001B[1;32m    550\u001B[0m y_true \u001B[38;5;241m=\u001B[39m check_array(y_true, ensure_2d\u001B[38;5;241m=\u001B[39m\u001B[38;5;28;01mFalse\u001B[39;00m, dtype\u001B[38;5;241m=\u001B[39m\u001B[38;5;28;01mNone\u001B[39;00m)\n\u001B[0;32m--> 551\u001B[0m y_score \u001B[38;5;241m=\u001B[39m \u001B[43mcheck_array\u001B[49m\u001B[43m(\u001B[49m\u001B[43my_score\u001B[49m\u001B[43m,\u001B[49m\u001B[43m \u001B[49m\u001B[43mensure_2d\u001B[49m\u001B[38;5;241;43m=\u001B[39;49m\u001B[38;5;28;43;01mFalse\u001B[39;49;00m\u001B[43m)\u001B[49m\n\u001B[1;32m    553\u001B[0m \u001B[38;5;28;01mif\u001B[39;00m y_type \u001B[38;5;241m==\u001B[39m \u001B[38;5;124m\"\u001B[39m\u001B[38;5;124mmulticlass\u001B[39m\u001B[38;5;124m\"\u001B[39m \u001B[38;5;129;01mor\u001B[39;00m (\n\u001B[1;32m    554\u001B[0m     y_type \u001B[38;5;241m==\u001B[39m \u001B[38;5;124m\"\u001B[39m\u001B[38;5;124mbinary\u001B[39m\u001B[38;5;124m\"\u001B[39m \u001B[38;5;129;01mand\u001B[39;00m y_score\u001B[38;5;241m.\u001B[39mndim \u001B[38;5;241m==\u001B[39m \u001B[38;5;241m2\u001B[39m \u001B[38;5;129;01mand\u001B[39;00m y_score\u001B[38;5;241m.\u001B[39mshape[\u001B[38;5;241m1\u001B[39m] \u001B[38;5;241m>\u001B[39m \u001B[38;5;241m2\u001B[39m\n\u001B[1;32m    555\u001B[0m ):\n\u001B[1;32m    556\u001B[0m     \u001B[38;5;66;03m# do not support partial ROC computation for multiclass\u001B[39;00m\n\u001B[1;32m    557\u001B[0m     \u001B[38;5;28;01mif\u001B[39;00m max_fpr \u001B[38;5;129;01mis\u001B[39;00m \u001B[38;5;129;01mnot\u001B[39;00m \u001B[38;5;28;01mNone\u001B[39;00m \u001B[38;5;129;01mand\u001B[39;00m max_fpr \u001B[38;5;241m!=\u001B[39m \u001B[38;5;241m1.0\u001B[39m:\n",
      "File \u001B[0;32m~/anaconda/envs/CV-Project/lib/python3.9/site-packages/sklearn/utils/validation.py:877\u001B[0m, in \u001B[0;36mcheck_array\u001B[0;34m(array, accept_sparse, accept_large_sparse, dtype, order, copy, force_all_finite, ensure_2d, allow_nd, ensure_min_samples, ensure_min_features, estimator, input_name)\u001B[0m\n\u001B[1;32m    875\u001B[0m         array \u001B[38;5;241m=\u001B[39m xp\u001B[38;5;241m.\u001B[39mastype(array, dtype, copy\u001B[38;5;241m=\u001B[39m\u001B[38;5;28;01mFalse\u001B[39;00m)\n\u001B[1;32m    876\u001B[0m     \u001B[38;5;28;01melse\u001B[39;00m:\n\u001B[0;32m--> 877\u001B[0m         array \u001B[38;5;241m=\u001B[39m \u001B[43m_asarray_with_order\u001B[49m\u001B[43m(\u001B[49m\u001B[43marray\u001B[49m\u001B[43m,\u001B[49m\u001B[43m \u001B[49m\u001B[43morder\u001B[49m\u001B[38;5;241;43m=\u001B[39;49m\u001B[43morder\u001B[49m\u001B[43m,\u001B[49m\u001B[43m \u001B[49m\u001B[43mdtype\u001B[49m\u001B[38;5;241;43m=\u001B[39;49m\u001B[43mdtype\u001B[49m\u001B[43m,\u001B[49m\u001B[43m \u001B[49m\u001B[43mxp\u001B[49m\u001B[38;5;241;43m=\u001B[39;49m\u001B[43mxp\u001B[49m\u001B[43m)\u001B[49m\n\u001B[1;32m    878\u001B[0m \u001B[38;5;28;01mexcept\u001B[39;00m ComplexWarning \u001B[38;5;28;01mas\u001B[39;00m complex_warning:\n\u001B[1;32m    879\u001B[0m     \u001B[38;5;28;01mraise\u001B[39;00m \u001B[38;5;167;01mValueError\u001B[39;00m(\n\u001B[1;32m    880\u001B[0m         \u001B[38;5;124m\"\u001B[39m\u001B[38;5;124mComplex data not supported\u001B[39m\u001B[38;5;130;01m\\n\u001B[39;00m\u001B[38;5;132;01m{}\u001B[39;00m\u001B[38;5;130;01m\\n\u001B[39;00m\u001B[38;5;124m\"\u001B[39m\u001B[38;5;241m.\u001B[39mformat(array)\n\u001B[1;32m    881\u001B[0m     ) \u001B[38;5;28;01mfrom\u001B[39;00m \u001B[38;5;21;01mcomplex_warning\u001B[39;00m\n",
      "File \u001B[0;32m~/anaconda/envs/CV-Project/lib/python3.9/site-packages/sklearn/utils/_array_api.py:185\u001B[0m, in \u001B[0;36m_asarray_with_order\u001B[0;34m(array, dtype, order, copy, xp)\u001B[0m\n\u001B[1;32m    182\u001B[0m     xp, _ \u001B[38;5;241m=\u001B[39m get_namespace(array)\n\u001B[1;32m    183\u001B[0m \u001B[38;5;28;01mif\u001B[39;00m xp\u001B[38;5;241m.\u001B[39m\u001B[38;5;18m__name__\u001B[39m \u001B[38;5;129;01min\u001B[39;00m {\u001B[38;5;124m\"\u001B[39m\u001B[38;5;124mnumpy\u001B[39m\u001B[38;5;124m\"\u001B[39m, \u001B[38;5;124m\"\u001B[39m\u001B[38;5;124mnumpy.array_api\u001B[39m\u001B[38;5;124m\"\u001B[39m}:\n\u001B[1;32m    184\u001B[0m     \u001B[38;5;66;03m# Use NumPy API to support order\u001B[39;00m\n\u001B[0;32m--> 185\u001B[0m     array \u001B[38;5;241m=\u001B[39m \u001B[43mnumpy\u001B[49m\u001B[38;5;241;43m.\u001B[39;49m\u001B[43masarray\u001B[49m\u001B[43m(\u001B[49m\u001B[43marray\u001B[49m\u001B[43m,\u001B[49m\u001B[43m \u001B[49m\u001B[43morder\u001B[49m\u001B[38;5;241;43m=\u001B[39;49m\u001B[43morder\u001B[49m\u001B[43m,\u001B[49m\u001B[43m \u001B[49m\u001B[43mdtype\u001B[49m\u001B[38;5;241;43m=\u001B[39;49m\u001B[43mdtype\u001B[49m\u001B[43m)\u001B[49m\n\u001B[1;32m    186\u001B[0m     \u001B[38;5;28;01mreturn\u001B[39;00m xp\u001B[38;5;241m.\u001B[39masarray(array, copy\u001B[38;5;241m=\u001B[39mcopy)\n\u001B[1;32m    187\u001B[0m \u001B[38;5;28;01melse\u001B[39;00m:\n",
      "File \u001B[0;32m~/anaconda/envs/CV-Project/lib/python3.9/site-packages/pandas/core/series.py:872\u001B[0m, in \u001B[0;36mSeries.__array__\u001B[0;34m(self, dtype)\u001B[0m\n\u001B[1;32m    825\u001B[0m \u001B[38;5;28;01mdef\u001B[39;00m \u001B[38;5;21m__array__\u001B[39m(\u001B[38;5;28mself\u001B[39m, dtype: npt\u001B[38;5;241m.\u001B[39mDTypeLike \u001B[38;5;241m|\u001B[39m \u001B[38;5;28;01mNone\u001B[39;00m \u001B[38;5;241m=\u001B[39m \u001B[38;5;28;01mNone\u001B[39;00m) \u001B[38;5;241m-\u001B[39m\u001B[38;5;241m>\u001B[39m np\u001B[38;5;241m.\u001B[39mndarray:\n\u001B[1;32m    826\u001B[0m \u001B[38;5;250m    \u001B[39m\u001B[38;5;124;03m\"\"\"\u001B[39;00m\n\u001B[1;32m    827\u001B[0m \u001B[38;5;124;03m    Return the values as a NumPy array.\u001B[39;00m\n\u001B[1;32m    828\u001B[0m \n\u001B[0;32m   (...)\u001B[0m\n\u001B[1;32m    870\u001B[0m \u001B[38;5;124;03m          dtype='datetime64[ns]')\u001B[39;00m\n\u001B[1;32m    871\u001B[0m \u001B[38;5;124;03m    \"\"\"\u001B[39;00m\n\u001B[0;32m--> 872\u001B[0m     \u001B[38;5;28;01mreturn\u001B[39;00m \u001B[43mnp\u001B[49m\u001B[38;5;241;43m.\u001B[39;49m\u001B[43masarray\u001B[49m\u001B[43m(\u001B[49m\u001B[38;5;28;43mself\u001B[39;49m\u001B[38;5;241;43m.\u001B[39;49m\u001B[43m_values\u001B[49m\u001B[43m,\u001B[49m\u001B[43m \u001B[49m\u001B[43mdtype\u001B[49m\u001B[43m)\u001B[49m\n",
      "\u001B[0;31mValueError\u001B[0m: could not convert string to float: 'zebra'"
     ]
    }
   ],
   "source": [
    "# roc_auc_score(TEs, submission['label'], average=\"weighted\")"
   ],
   "metadata": {
    "collapsed": false,
    "ExecuteTime": {
     "end_time": "2023-11-09T16:55:28.780702542Z",
     "start_time": "2023-11-09T16:55:28.547219441Z"
    }
   },
   "id": "173c81f0b50b7d57"
  },
  {
   "cell_type": "code",
   "execution_count": 39,
   "outputs": [
    {
     "data": {
      "text/plain": "(388, 6)"
     },
     "execution_count": 39,
     "metadata": {},
     "output_type": "execute_result"
    }
   ],
   "source": [
    "te_pred.shape"
   ],
   "metadata": {
    "collapsed": false,
    "ExecuteTime": {
     "end_time": "2023-11-09T16:55:48.053061026Z",
     "start_time": "2023-11-09T16:55:47.992972170Z"
    }
   },
   "id": "df83dce4413bc6d2"
  },
  {
   "cell_type": "code",
   "execution_count": 40,
   "outputs": [
    {
     "data": {
      "text/plain": "['lama_model.joblib']"
     },
     "execution_count": 40,
     "metadata": {},
     "output_type": "execute_result"
    }
   ],
   "source": [
    "import joblib\n",
    "joblib.dump(automl, 'lama_model.joblib')"
   ],
   "metadata": {
    "collapsed": false,
    "ExecuteTime": {
     "end_time": "2023-11-09T16:55:51.692752206Z",
     "start_time": "2023-11-09T16:55:51.384959959Z"
    }
   },
   "id": "ae646378bdb892b9"
  },
  {
   "cell_type": "code",
   "execution_count": null,
   "outputs": [],
   "source": [
    "# automl = TabularCVAutoML(task = task,\n",
    "#                          timeout=5 * 3600,\n",
    "#                          autocv_features={\"embed_model\": 'timm/tf_efficientnetv2_b0.in1k'},\n",
    "#                         cpu_limit = 2,\n",
    "#                         reader_params = {'cv': 5, 'random_state': 42})"
   ],
   "metadata": {
    "collapsed": false,
    "ExecuteTime": {
     "end_time": "2023-11-09T16:13:30.376384779Z",
     "start_time": "2023-11-09T16:13:30.366232705Z"
    }
   },
   "id": "a85e95bb38274edf"
  },
  {
   "cell_type": "code",
   "execution_count": null,
   "outputs": [],
   "source": [
    "# %%time\n",
    "# \n",
    "# oof_pred = automl.fit_predict(train_data, roles = roles, verbose = 3)"
   ],
   "metadata": {
    "collapsed": false,
    "ExecuteTime": {
     "start_time": "2023-11-09T16:13:30.366276320Z"
    }
   },
   "id": "67e5c43d78823594"
  },
  {
   "cell_type": "code",
   "execution_count": null,
   "outputs": [],
   "source": [
    "# %%time\n",
    "# \n",
    "# te_pred = automl.predict(submission)\n",
    "# print(f'Prediction for te_data:\\n{te_pred}\\nShape = {te_pred.shape}')"
   ],
   "metadata": {
    "collapsed": false,
    "ExecuteTime": {
     "start_time": "2023-11-09T16:13:30.366306238Z"
    }
   },
   "id": "8fa0a7dfab028f8f"
  }
 ],
 "metadata": {
  "kernelspec": {
   "display_name": "Python 3",
   "language": "python",
   "name": "python3"
  },
  "language_info": {
   "codemirror_mode": {
    "name": "ipython",
    "version": 2
   },
   "file_extension": ".py",
   "mimetype": "text/x-python",
   "name": "python",
   "nbconvert_exporter": "python",
   "pygments_lexer": "ipython2",
   "version": "2.7.6"
  }
 },
 "nbformat": 4,
 "nbformat_minor": 5
}
